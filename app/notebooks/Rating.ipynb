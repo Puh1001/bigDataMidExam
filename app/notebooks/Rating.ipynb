{
 "cells": [
  {
   "cell_type": "code",
   "execution_count": 1,
   "id": "6df10224-e63d-494c-85e0-4a04e11db7aa",
   "metadata": {},
   "outputs": [],
   "source": [
    "from pyspark.ml import PipelineModel\n",
    "from pyspark.sql import SparkSession\n",
    "from pyspark.ml import Pipeline\n",
    "from pyspark.ml.feature import Tokenizer, StopWordsRemover, CountVectorizer, IDF\n",
    "from pyspark.ml.classification import LogisticRegression\n",
    "from pyspark.ml.evaluation import MulticlassClassificationEvaluator\n",
    "from pyspark.sql.functions import col, regexp_replace\n",
    "from pyspark.ml.feature import StringIndexer\n",
    "from pyspark import SparkContext, SparkConf\n",
    "from pyspark.sql import SQLContext"
   ]
  },
  {
   "cell_type": "code",
   "execution_count": 2,
   "id": "517ba17a-1c49-4b23-b55e-72b2b2c45a72",
   "metadata": {},
   "outputs": [],
   "source": [
    "from bs4 import BeautifulSoup\n",
    "import requests\n",
    "import re"
   ]
  },
  {
   "cell_type": "code",
   "execution_count": 3,
   "id": "99dd4d48-326f-4e6a-9307-3d89e45b51da",
   "metadata": {},
   "outputs": [
    {
     "name": "stderr",
     "output_type": "stream",
     "text": [
      "Setting default log level to \"WARN\".\n",
      "To adjust logging level use sc.setLogLevel(newLevel). For SparkR, use setLogLevel(newLevel).\n",
      "25/02/27 07:53:47 WARN NativeCodeLoader: Unable to load native-hadoop library for your platform... using builtin-java classes where applicable\n",
      "25/02/27 07:53:51 WARN Utils: Service 'SparkUI' could not bind on port 4040. Attempting port 4041.\n",
      "25/02/27 07:53:51 WARN Utils: Service 'SparkUI' could not bind on port 4041. Attempting port 4042.\n",
      "                                                                                "
     ]
    }
   ],
   "source": [
    "loaded_model = PipelineModel.load(\"../models/sentiment_model_spark\")"
   ]
  },
  {
   "cell_type": "code",
   "execution_count": 4,
   "id": "5723262b-353e-436f-9a4d-b176aa655eff",
   "metadata": {
    "scrolled": true
   },
   "outputs": [],
   "source": [
    "# URL bài báo\n",
    "url = \"https://vnexpress.net/cong-ty-chung-khoan-thuoc-nhom-flc-bi-dinh-chi-mua-chung-khoan-4851742.html\"\n",
    "\n",
    "# Gửi yêu cầu HTTP\n",
    "headers = {\"User-Agent\": \"Mozilla/5.0\"}\n",
    "response = requests.get(url, headers=headers)\n",
    "# Kiểm tra phản hồi\n",
    "if response.status_code == 200:\n",
    "    # Phân tích HTML\n",
    "    soup = BeautifulSoup(response.text, \"html.parser\")\n",
    "\n",
    "    # Tìm các thẻ <p> có class \"Normal\"\n",
    "    paragraphs = soup.find_all(\"p\", class_=\"Normal\")\n",
    "\n",
    "    # Lấy nội dung văn bản\n",
    "    content = \"\\n\".join([p.get_text() for p in paragraphs])\n",
    "else:\n",
    "    print(\"Không thể lấy nội dung bài báo.\")\n"
   ]
  },
  {
   "cell_type": "code",
   "execution_count": 5,
   "id": "558d3df3-b70b-4dec-93ac-5475fa9f880e",
   "metadata": {},
   "outputs": [
    {
     "name": "stdout",
     "output_type": "stream",
     "text": [
      "sở giao dịch chứng khoán việt nam  vnx  vừa đình chỉ một phần hoạt động giao dịch với công ty cổ phần chứng khoán bos  art   các hoạt động bao gồm mua chứng khoán trên thị trường niêm yết và thị trường đăng ký giao dịch tại sở giao dịch chứng khoán tp hcm  hose  và sở giao dịch chứng khoán hà nội  hnx  \n",
      "nguyên nhân là doanh nghiệp này bị ủy ban chứng khoán nhà nước  ssc  đặt vào tình trạng kiểm soát  trước đó vào tháng 10 2024  bos bị kiểm soát do không đáp ứng chỉ tiêu an toàn tài chính  theo quyết định mới  công ty sẽ bị đình chỉ mua chứng khoán từ ngày 17 2 đến khi thoát khỏi tình trạng trên \n",
      "chứng khoán bos tiền thân là chứng khoán artex  thành lập năm 2008  doanh nghiệp này được biết đến là công ty liên quan đến nhiều lãnh đạo flc \n",
      "thời gian qua  bos nhận nhiều án phạt  tháng 2 2024  công ty bị phạt hơn 1 tỷ đồng do những vi phạm về giấu thông tin giao dịch với nhóm cá nhân người nhà  flc  khoảng 3 tháng sau  họ đã bị ssc thu hồi chứng nhận đủ điều kiện kinh doanh chứng khoán phái sinh và cung cấp dịch vụ bù trừ  thanh toán chứng khoán phái sinh  đến tháng 11 2024  bos bị phạt 175 triệu đồng do báo cáo sai tỷ lệ vốn khả dụng đối với các báo cáo tỷ lệ an toàn tài chính từ tháng 4 8 và báo cáo tỷ lệ an toàn tài chính tại ngày 30 6 đã được soát xét \n",
      "sau vụ án thao túng chứng khoán của ông trịnh văn quyết khi còn làm chủ tịch hội đồng quản trị flc  bos kinh doanh chật vật  năm trước  công ty chỉ có hơn 800 triệu đồng doanh thu  mức thấp kỷ lục trong lịch sử hoạt động  họ lỗ năm thứ 3 liên tiếp với mức lợi nhuận lũy kế âm 860 tỷ đồng  gấp 6 5 lần vốn chủ sở hữu \n",
      "tất đạt\n"
     ]
    }
   ],
   "source": [
    "content = content.lower()\n",
    "content = re.sub(r'[^\\w\\s]', ' ', content)\n",
    "print(content)"
   ]
  },
  {
   "cell_type": "code",
   "execution_count": 6,
   "id": "169f2e6c-a4e4-443a-829f-a919730e571a",
   "metadata": {},
   "outputs": [
    {
     "name": "stderr",
     "output_type": "stream",
     "text": [
      "25/02/27 07:54:19 WARN SparkSession: Using an existing Spark session; only runtime SQL configurations will take effect.\n"
     ]
    }
   ],
   "source": [
    "spark = SparkSession.builder \\\n",
    "    .appName(\"SentimentAnalysis\") \\\n",
    "    .getOrCreate()"
   ]
  },
  {
   "cell_type": "code",
   "execution_count": 7,
   "id": "e3c92d24-4a21-48aa-9161-41e3b8ef11ab",
   "metadata": {},
   "outputs": [],
   "source": [
    "data = spark.createDataFrame([(content,)], [\"clean_content\"])"
   ]
  },
  {
   "cell_type": "code",
   "execution_count": 8,
   "id": "612f8440-39cf-416b-8999-fc967a883de7",
   "metadata": {},
   "outputs": [
    {
     "name": "stderr",
     "output_type": "stream",
     "text": [
      "25/02/27 07:54:26 WARN StringIndexerModel: Input column sentiment does not exist during transformation. Skip StringIndexerModel for this column.\n"
     ]
    }
   ],
   "source": [
    "predictions = loaded_model.transform(data)"
   ]
  },
  {
   "cell_type": "code",
   "execution_count": 9,
   "id": "ddb3e29e-499f-4f65-a9ba-83c79ed81311",
   "metadata": {},
   "outputs": [
    {
     "name": "stderr",
     "output_type": "stream",
     "text": [
      "[Stage 24:======================================>                   (2 + 1) / 3]"
     ]
    },
    {
     "name": "stdout",
     "output_type": "stream",
     "text": [
      "+----------+\n",
      "|prediction|\n",
      "+----------+\n",
      "|0.0       |\n",
      "+----------+\n",
      "\n"
     ]
    },
    {
     "name": "stderr",
     "output_type": "stream",
     "text": [
      "                                                                                "
     ]
    }
   ],
   "source": [
    "predictions.select(\"prediction\").show(truncate=False)"
   ]
  },
  {
   "cell_type": "code",
   "execution_count": 11,
   "id": "50d31436-58f7-4d25-b0e5-6baa82eaf5b5",
   "metadata": {},
   "outputs": [],
   "source": [
    "df = spark.read.csv(\"data/clean_news.csv\", header=True, inferSchema=True)"
   ]
  },
  {
   "cell_type": "code",
   "execution_count": 12,
   "id": "99015b32-f7fa-4466-a14e-f1120015234c",
   "metadata": {},
   "outputs": [],
   "source": [
    "train, test = df.randomSplit([0.5, 0.5], seed=42)"
   ]
  },
  {
   "cell_type": "code",
   "execution_count": 13,
   "id": "151b99e3-63ce-455b-84df-e5b4609cd64d",
   "metadata": {},
   "outputs": [],
   "source": [
    "predictions = loaded_model.transform(test)"
   ]
  },
  {
   "cell_type": "code",
   "execution_count": 15,
   "id": "f7da0439-059d-466e-9e3a-b558d2e7433d",
   "metadata": {},
   "outputs": [],
   "source": [
    "from pyspark.ml.evaluation import RegressionEvaluator\n",
    "import pandas as pd\n",
    "import seaborn as sns\n",
    "import matplotlib.pyplot as plt"
   ]
  },
  {
   "cell_type": "code",
   "execution_count": 16,
   "id": "f3daa94b-56b4-4ee1-84c5-15a45ccbb299",
   "metadata": {},
   "outputs": [
    {
     "name": "stderr",
     "output_type": "stream",
     "text": [
      "/tmp/ipykernel_8984/2669846013.py:9: FutureWarning: \n",
      "\n",
      "Passing `palette` without assigning `hue` is deprecated and will be removed in v0.14.0. Assign the `x` variable to `hue` and set `legend=False` for the same effect.\n",
      "\n",
      "  sns.barplot(x=\"Metric\", y=\"Score\", data=df_metrics, palette=\"Blues\")\n"
     ]
    },
    {
     "data": {
      "image/png": "[encoded data removed]",
      "text/plain": [
       "<Figure size 800x500 with 1 Axes>"
      ]
     },
     "metadata": {},
     "output_type": "display_data"
    }
   ],
   "source": [
    "metrics = [\"rmse\", \"mse\", \"r2\", \"mae\"]\n",
    "scores = {metric.upper(): RegressionEvaluator(labelCol=\"label\", predictionCol=\"prediction\", metricName=metric).evaluate(predictions) for metric in metrics}\n",
    "\n",
    "# Chuyển dữ liệu thành DataFrame Pandas\n",
    "df_metrics = pd.DataFrame(scores.items(), columns=[\"Metric\", \"Score\"])\n",
    "\n",
    "# Vẽ biểu đồ Seaborn\n",
    "plt.figure(figsize=(8, 5))\n",
    "sns.barplot(x=\"Metric\", y=\"Score\", data=df_metrics, palette=\"Blues\")\n",
    "plt.title(\"Regression Model Evaluation\")\n",
    "plt.xlabel(\"Metrics\")\n",
    "plt.ylabel(\"Score\")\n",
    "plt.show()\n"
   ]
  },
  {
   "cell_type": "code",
   "execution_count": 17,
   "id": "297aaeca-c96c-4557-bb1d-a0352aa33e1c",
   "metadata": {},
   "outputs": [
    {
     "name": "stderr",
     "output_type": "stream",
     "text": [
      "25/02/27 07:56:33 WARN InstanceBuilder: Failed to load implementation from:dev.ludovic.netlib.blas.JNIBLAS\n",
      "25/02/27 07:56:33 WARN InstanceBuilder: Failed to load implementation from:dev.ludovic.netlib.blas.VectorBLAS\n"
     ]
    },
    {
     "name": "stdout",
     "output_type": "stream",
     "text": [
      "Accuracy: 0.958904109589041\n",
      "F1: 0.9588880134868394\n",
      "Weightedprecision: 0.960465123050371\n",
      "Weightedrecall: 0.958904109589041\n"
     ]
    }
   ],
   "source": [
    "multi_metrics = [\"accuracy\", \"f1\", \"weightedPrecision\", \"weightedRecall\"]\n",
    "for metric in multi_metrics:\n",
    "    evaluator = MulticlassClassificationEvaluator(labelCol=\"label\", predictionCol=\"prediction\", metricName=metric)\n",
    "    score = evaluator.evaluate(predictions)\n",
    "    print(f\"{metric.capitalize()}: {score}\")"
   ]
  }
 ],
 "metadata": {
  "kernelspec": {
   "display_name": "Python 3 (ipykernel)",
   "language": "python",
   "name": "python3"
  },
  "language_info": {
   "codemirror_mode": {
    "name": "ipython",
    "version": 3
   },
   "file_extension": ".py",
   "mimetype": "text/x-python",
   "name": "python",
   "nbconvert_exporter": "python",
   "pygments_lexer": "ipython3",
   "version": "3.9.21"
  }
 },
 "nbformat": 4,
 "nbformat_minor": 5
}
